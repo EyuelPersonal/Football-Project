{
 "cells": [
  {
   "cell_type": "code",
   "execution_count": 7,
   "metadata": {},
   "outputs": [],
   "source": [
    "import pandas as pd\n",
    "import numpy as np"
   ]
  },
  {
   "cell_type": "code",
   "execution_count": 8,
   "metadata": {},
   "outputs": [],
   "source": [
    "player_stats_df = pd.read_csv('player_stats_2.csv')"
   ]
  },
  {
   "cell_type": "code",
   "execution_count": 9,
   "metadata": {},
   "outputs": [],
   "source": [
    "player_stats_df_old = pd.read_csv('player_stats.csv')"
   ]
  },
  {
   "cell_type": "code",
   "execution_count": 10,
   "metadata": {},
   "outputs": [],
   "source": [
    "player_stats_df_old_main = player_stats_df_old[list(player_stats_df_old.columns)[1:]]"
   ]
  },
  {
   "cell_type": "code",
   "execution_count": 11,
   "metadata": {},
   "outputs": [],
   "source": [
    "player_stats_df_main = player_stats_df[list(player_stats_df_old.columns)[1:]]"
   ]
  },
  {
   "cell_type": "code",
   "execution_count": 12,
   "metadata": {},
   "outputs": [],
   "source": [
    "player_stats_df_old_main= player_stats_df_old_main.append(player_stats_df_main)"
   ]
  },
  {
   "cell_type": "code",
   "execution_count": 13,
   "metadata": {},
   "outputs": [],
   "source": [
    "player_stats_df = player_stats_df_old_main"
   ]
  },
  {
   "cell_type": "code",
   "execution_count": 14,
   "metadata": {},
   "outputs": [],
   "source": [
    "def to_float(x):\n",
    "    try:\n",
    "        return [float(i) for i in x]\n",
    "    except:\n",
    "        try:\n",
    "            return [int(i) for i in x]\n",
    "        except:\n",
    "            return 'i'\n",
    "\n",
    "player_stats_df['ShotsTotal'] = to_float(player_stats_df['ShotsTotal'])\n",
    "player_stats_df['ShotOnTarget'] = to_float(player_stats_df['ShotOnTarget'])\n",
    "player_stats_df['KeyPassTotal']  = to_float(player_stats_df['KeyPassTotal'])\n",
    "player_stats_df['PassSuccessInMatch'] = to_float(player_stats_df['PassSuccessInMatch'])\n",
    "player_stats_df['DuelAerialWon']   = to_float(player_stats_df['DuelAerialWon'])\n",
    "player_stats_df['Touches'] = to_float(player_stats_df['Touches'])\n",
    "player_stats_df['rating'] = to_float(player_stats_df['rating'])"
   ]
  },
  {
   "cell_type": "code",
   "execution_count": 15,
   "metadata": {},
   "outputs": [],
   "source": [
    "def positions(i):\n",
    "    if 'D' in i:\n",
    "        return 'Defense'\n",
    "    elif 'F' in i:\n",
    "        return 'Forward'\n",
    "    elif 'M' in i:\n",
    "        return 'Mid'\n",
    "    elif 'GK' in i:\n",
    "        return 'GK'\n",
    "    else:\n",
    "        return 'Substitute'"
   ]
  },
  {
   "cell_type": "code",
   "execution_count": 16,
   "metadata": {},
   "outputs": [],
   "source": [
    "def bandas(i):\n",
    "    if i not in [',  GK  ', ',  Sub  '] and i in [',  AMC  ', ',  DC  ', ',  DMC  ', ',  FW  ', ',  MC  ', ',  MED  ', ',  MPC  ',]:\n",
    "        return 'Centro'\n",
    "    elif i not in [',  POR  ', ',  Sus  ']:\n",
    "        return 'Bandas'\n",
    "    else:\n",
    "        return 'none'"
   ]
  },
  {
   "cell_type": "code",
   "execution_count": 17,
   "metadata": {},
   "outputs": [],
   "source": [
    "player_stats_df['fieled_position'] = [positions(i) for i in player_stats_df['position']]"
   ]
  },
  {
   "cell_type": "code",
   "execution_count": 18,
   "metadata": {},
   "outputs": [],
   "source": [
    "player_stats_df['bandas'] = [bandas(i) for i in player_stats_df['position']]"
   ]
  },
  {
   "cell_type": "code",
   "execution_count": 19,
   "metadata": {},
   "outputs": [
    {
     "data": {
      "text/html": [
       "<div>\n",
       "<style scoped>\n",
       "    .dataframe tbody tr th:only-of-type {\n",
       "        vertical-align: middle;\n",
       "    }\n",
       "\n",
       "    .dataframe tbody tr th {\n",
       "        vertical-align: top;\n",
       "    }\n",
       "\n",
       "    .dataframe thead th {\n",
       "        text-align: right;\n",
       "    }\n",
       "</style>\n",
       "<table border=\"1\" class=\"dataframe\">\n",
       "  <thead>\n",
       "    <tr style=\"text-align: right;\">\n",
       "      <th></th>\n",
       "      <th>player_name</th>\n",
       "      <th>game_id</th>\n",
       "      <th>field</th>\n",
       "      <th>team</th>\n",
       "      <th>position</th>\n",
       "      <th>ShotsTotal</th>\n",
       "      <th>ShotOnTarget</th>\n",
       "      <th>KeyPassTotal</th>\n",
       "      <th>PassSuccessInMatch</th>\n",
       "      <th>DuelAerialWon</th>\n",
       "      <th>Touches</th>\n",
       "      <th>rating</th>\n",
       "      <th>fieled_position</th>\n",
       "      <th>bandas</th>\n",
       "    </tr>\n",
       "  </thead>\n",
       "  <tbody>\n",
       "    <tr>\n",
       "      <th>0</th>\n",
       "      <td>Matz Sels</td>\n",
       "      <td>https://whoscored.com//Matches/1376559/Live/Fr...</td>\n",
       "      <td>home</td>\n",
       "      <td>Strasbourg</td>\n",
       "      <td>,  GK</td>\n",
       "      <td>0.0</td>\n",
       "      <td>0.0</td>\n",
       "      <td>0.0</td>\n",
       "      <td>0.6</td>\n",
       "      <td>2.0</td>\n",
       "      <td>3.0</td>\n",
       "      <td>i</td>\n",
       "      <td>GK</td>\n",
       "      <td>Bandas</td>\n",
       "    </tr>\n",
       "    <tr>\n",
       "      <th>1</th>\n",
       "      <td>Alexander Djiku</td>\n",
       "      <td>https://whoscored.com//Matches/1376559/Live/Fr...</td>\n",
       "      <td>home</td>\n",
       "      <td>Strasbourg</td>\n",
       "      <td>,  DC</td>\n",
       "      <td>0.0</td>\n",
       "      <td>0.0</td>\n",
       "      <td>0.0</td>\n",
       "      <td>0.8</td>\n",
       "      <td>5.0</td>\n",
       "      <td>1.0</td>\n",
       "      <td>i</td>\n",
       "      <td>Defense</td>\n",
       "      <td>Centro</td>\n",
       "    </tr>\n",
       "    <tr>\n",
       "      <th>2</th>\n",
       "      <td>Stefan Mitrovic</td>\n",
       "      <td>https://whoscored.com//Matches/1376559/Live/Fr...</td>\n",
       "      <td>home</td>\n",
       "      <td>Strasbourg</td>\n",
       "      <td>,  DC</td>\n",
       "      <td>0.0</td>\n",
       "      <td>0.0</td>\n",
       "      <td>0.0</td>\n",
       "      <td>0.9</td>\n",
       "      <td>3.0</td>\n",
       "      <td>7.0</td>\n",
       "      <td>i</td>\n",
       "      <td>Defense</td>\n",
       "      <td>Centro</td>\n",
       "    </tr>\n",
       "    <tr>\n",
       "      <th>3</th>\n",
       "      <td>Lamine Koné</td>\n",
       "      <td>https://whoscored.com//Matches/1376559/Live/Fr...</td>\n",
       "      <td>home</td>\n",
       "      <td>Strasbourg</td>\n",
       "      <td>,  DC</td>\n",
       "      <td>1.0</td>\n",
       "      <td>0.0</td>\n",
       "      <td>1.0</td>\n",
       "      <td>0.7</td>\n",
       "      <td>2.0</td>\n",
       "      <td>9.0</td>\n",
       "      <td>i</td>\n",
       "      <td>Defense</td>\n",
       "      <td>Centro</td>\n",
       "    </tr>\n",
       "    <tr>\n",
       "      <th>4</th>\n",
       "      <td>Kenny Lala</td>\n",
       "      <td>https://whoscored.com//Matches/1376559/Live/Fr...</td>\n",
       "      <td>home</td>\n",
       "      <td>Strasbourg</td>\n",
       "      <td>,  DMR</td>\n",
       "      <td>2.0</td>\n",
       "      <td>0.0</td>\n",
       "      <td>1.0</td>\n",
       "      <td>0.8</td>\n",
       "      <td>0.0</td>\n",
       "      <td>9.0</td>\n",
       "      <td>i</td>\n",
       "      <td>Defense</td>\n",
       "      <td>Bandas</td>\n",
       "    </tr>\n",
       "  </tbody>\n",
       "</table>\n",
       "</div>"
      ],
      "text/plain": [
       "         player_name                                            game_id field  \\\n",
       "0        Matz Sels    https://whoscored.com//Matches/1376559/Live/Fr...  home   \n",
       "1  Alexander Djiku    https://whoscored.com//Matches/1376559/Live/Fr...  home   \n",
       "2  Stefan Mitrovic    https://whoscored.com//Matches/1376559/Live/Fr...  home   \n",
       "3      Lamine Koné    https://whoscored.com//Matches/1376559/Live/Fr...  home   \n",
       "4       Kenny Lala    https://whoscored.com//Matches/1376559/Live/Fr...  home   \n",
       "\n",
       "         team  position  ShotsTotal  ShotOnTarget  KeyPassTotal  \\\n",
       "0  Strasbourg   ,  GK           0.0           0.0           0.0   \n",
       "1  Strasbourg   ,  DC           0.0           0.0           0.0   \n",
       "2  Strasbourg   ,  DC           0.0           0.0           0.0   \n",
       "3  Strasbourg   ,  DC           1.0           0.0           1.0   \n",
       "4  Strasbourg  ,  DMR           2.0           0.0           1.0   \n",
       "\n",
       "   PassSuccessInMatch  DuelAerialWon  Touches rating fieled_position  bandas  \n",
       "0                 0.6            2.0      3.0      i              GK  Bandas  \n",
       "1                 0.8            5.0      1.0      i         Defense  Centro  \n",
       "2                 0.9            3.0      7.0      i         Defense  Centro  \n",
       "3                 0.7            2.0      9.0      i         Defense  Centro  \n",
       "4                 0.8            0.0      9.0      i         Defense  Bandas  "
      ]
     },
     "execution_count": 19,
     "metadata": {},
     "output_type": "execute_result"
    }
   ],
   "source": [
    "player_stats_df.head()"
   ]
  },
  {
   "cell_type": "markdown",
   "metadata": {},
   "source": [
    "## Grouping the data by positon and Sides or Center"
   ]
  },
  {
   "cell_type": "markdown",
   "metadata": {},
   "source": [
    "We had the data at the Player/Game level, what we do in this is step is to summarise that data by Tema, the Postision (Deffense, Forward...) and the location in the fieled (Sides or Center). What I intend by doing this is, to classify each team based on the weight each position has in it and also by where the team locates its game (Sides or Center).\n",
    "\n",
    "A classification like this one, will allow us to make a deeper analysis with the Games data that we also have, we will be able to see things such us (What happens when a team that weights most of its game in the midfieald and the center of the fieled plays against one that follows an opposite strategy?).\n",
    "\n",
    "This Classification will also (hopefully), later on help our algorithm to find patterns in the data more easily."
   ]
  },
  {
   "cell_type": "code",
   "execution_count": 20,
   "metadata": {},
   "outputs": [],
   "source": [
    "grouped = player_stats_df.groupby(['team','fieled_position','bandas']).agg({'ShotsTotal':'sum','ShotOnTarget':'sum','KeyPassTotal':'sum',\n",
    "                                                                          'PassSuccessInMatch':'mean','DuelAerialWon':'sum','Touches':'sum'}).reset_index()"
   ]
  },
  {
   "cell_type": "code",
   "execution_count": 21,
   "metadata": {},
   "outputs": [
    {
     "data": {
      "text/html": [
       "<div>\n",
       "<style scoped>\n",
       "    .dataframe tbody tr th:only-of-type {\n",
       "        vertical-align: middle;\n",
       "    }\n",
       "\n",
       "    .dataframe tbody tr th {\n",
       "        vertical-align: top;\n",
       "    }\n",
       "\n",
       "    .dataframe thead th {\n",
       "        text-align: right;\n",
       "    }\n",
       "</style>\n",
       "<table border=\"1\" class=\"dataframe\">\n",
       "  <thead>\n",
       "    <tr style=\"text-align: right;\">\n",
       "      <th></th>\n",
       "      <th>team</th>\n",
       "      <th>fieled_position</th>\n",
       "      <th>bandas</th>\n",
       "      <th>ShotsTotal</th>\n",
       "      <th>ShotOnTarget</th>\n",
       "      <th>KeyPassTotal</th>\n",
       "      <th>PassSuccessInMatch</th>\n",
       "      <th>DuelAerialWon</th>\n",
       "      <th>Touches</th>\n",
       "    </tr>\n",
       "  </thead>\n",
       "  <tbody>\n",
       "    <tr>\n",
       "      <th>0</th>\n",
       "      <td>AC Milan</td>\n",
       "      <td>Defense</td>\n",
       "      <td>Bandas</td>\n",
       "      <td>19.0</td>\n",
       "      <td>6.0</td>\n",
       "      <td>19.0</td>\n",
       "      <td>0.759091</td>\n",
       "      <td>24.0</td>\n",
       "      <td>140.0</td>\n",
       "    </tr>\n",
       "    <tr>\n",
       "      <th>1</th>\n",
       "      <td>AC Milan</td>\n",
       "      <td>Defense</td>\n",
       "      <td>Centro</td>\n",
       "      <td>13.0</td>\n",
       "      <td>0.0</td>\n",
       "      <td>12.0</td>\n",
       "      <td>0.830769</td>\n",
       "      <td>56.0</td>\n",
       "      <td>144.0</td>\n",
       "    </tr>\n",
       "    <tr>\n",
       "      <th>2</th>\n",
       "      <td>AC Milan</td>\n",
       "      <td>Forward</td>\n",
       "      <td>Bandas</td>\n",
       "      <td>29.0</td>\n",
       "      <td>15.0</td>\n",
       "      <td>29.0</td>\n",
       "      <td>0.758333</td>\n",
       "      <td>4.0</td>\n",
       "      <td>67.0</td>\n",
       "    </tr>\n",
       "    <tr>\n",
       "      <th>3</th>\n",
       "      <td>AC Milan</td>\n",
       "      <td>Forward</td>\n",
       "      <td>Centro</td>\n",
       "      <td>40.0</td>\n",
       "      <td>11.0</td>\n",
       "      <td>14.0</td>\n",
       "      <td>0.669231</td>\n",
       "      <td>37.0</td>\n",
       "      <td>46.0</td>\n",
       "    </tr>\n",
       "    <tr>\n",
       "      <th>4</th>\n",
       "      <td>AC Milan</td>\n",
       "      <td>GK</td>\n",
       "      <td>Bandas</td>\n",
       "      <td>0.0</td>\n",
       "      <td>0.0</td>\n",
       "      <td>0.0</td>\n",
       "      <td>0.681818</td>\n",
       "      <td>4.0</td>\n",
       "      <td>31.0</td>\n",
       "    </tr>\n",
       "  </tbody>\n",
       "</table>\n",
       "</div>"
      ],
      "text/plain": [
       "       team fieled_position  bandas  ShotsTotal  ShotOnTarget  KeyPassTotal  \\\n",
       "0  AC Milan         Defense  Bandas        19.0           6.0          19.0   \n",
       "1  AC Milan         Defense  Centro        13.0           0.0          12.0   \n",
       "2  AC Milan         Forward  Bandas        29.0          15.0          29.0   \n",
       "3  AC Milan         Forward  Centro        40.0          11.0          14.0   \n",
       "4  AC Milan              GK  Bandas         0.0           0.0           0.0   \n",
       "\n",
       "   PassSuccessInMatch  DuelAerialWon  Touches  \n",
       "0            0.759091           24.0    140.0  \n",
       "1            0.830769           56.0    144.0  \n",
       "2            0.758333            4.0     67.0  \n",
       "3            0.669231           37.0     46.0  \n",
       "4            0.681818            4.0     31.0  "
      ]
     },
     "execution_count": 21,
     "metadata": {},
     "output_type": "execute_result"
    }
   ],
   "source": [
    "grouped.head()"
   ]
  },
  {
   "cell_type": "markdown",
   "metadata": {},
   "source": [
    "Since I do not have a huge number of dimension, I won't be performing dimetionality reduction. In this step we will be engeneering a feature: I will cluster the teams based on the metrics above using the basic but powerfull Kmeans."
   ]
  },
  {
   "cell_type": "code",
   "execution_count": 22,
   "metadata": {},
   "outputs": [],
   "source": [
    "fieled_position_group = grouped.groupby(['team','fieled_position']).agg({'ShotsTotal':'mean','ShotOnTarget':'mean','KeyPassTotal':'mean',\n",
    "                                                                          'PassSuccessInMatch':'mean','DuelAerialWon':'mean','Touches':'mean'}).reset_index()\n"
   ]
  },
  {
   "cell_type": "code",
   "execution_count": 23,
   "metadata": {},
   "outputs": [],
   "source": [
    "bandas_group = grouped.groupby(['team','bandas']).agg({'ShotsTotal':'mean','ShotOnTarget':'mean','KeyPassTotal':'mean',\n",
    "                                                                          'PassSuccessInMatch':'mean','DuelAerialWon':'mean','Touches':'mean'}).reset_index()"
   ]
  },
  {
   "cell_type": "code",
   "execution_count": 24,
   "metadata": {},
   "outputs": [],
   "source": [
    "bandas_group['ShotAcuracy'] = bandas_group['ShotOnTarget']/bandas_group['ShotsTotal']\n",
    "fieled_position_group['ShotAcuracy'] = fieled_position_group['ShotOnTarget']/fieled_position_group['ShotsTotal']"
   ]
  },
  {
   "cell_type": "code",
   "execution_count": 25,
   "metadata": {},
   "outputs": [],
   "source": [
    "bandas_group_stacked = bandas_group.set_index(['team','bandas']).unstack()\n",
    "bandas_group_stacked.columns = [i[0]+\"_\"+i[1] for i in bandas_group_stacked.columns ]\n",
    "bandas_group_stacked = bandas_group_stacked.reset_index()"
   ]
  },
  {
   "cell_type": "code",
   "execution_count": 26,
   "metadata": {},
   "outputs": [],
   "source": [
    "fieled_position_stacked = fieled_position_group.set_index(['team','fieled_position']).unstack()\n",
    "fieled_position_stacked.columns = [i[0]+\"_\"+i[1] for i in fieled_position_stacked.columns ]\n",
    "fieled_position_stacked = fieled_position_stacked.reset_index()"
   ]
  },
  {
   "cell_type": "code",
   "execution_count": 27,
   "metadata": {},
   "outputs": [],
   "source": [
    "final_df = fieled_position_stacked.merge(bandas_group_stacked, how = 'left').set_index(['team'])"
   ]
  },
  {
   "cell_type": "code",
   "execution_count": 28,
   "metadata": {},
   "outputs": [],
   "source": [
    "from sklearn.pipeline import Pipeline\n",
    "from sklearn.preprocessing import StandardScaler\n",
    "from sklearn.impute import SimpleImputer\n",
    "\n",
    "num_pipeline = Pipeline([\n",
    "        ('imputer', SimpleImputer(strategy=\"median\")),\n",
    "        ('std_scaler', StandardScaler()),\n",
    "    ])\n",
    "\n",
    "standarized_df = num_pipeline.fit_transform(final_df)"
   ]
  },
  {
   "cell_type": "code",
   "execution_count": 29,
   "metadata": {},
   "outputs": [],
   "source": [
    "from sklearn.cluster import KMeans\n",
    "\n",
    "clusters = dict((i,0) for i in range(1,10))\n",
    "for i in clusters.keys():\n",
    "    kmeans = KMeans(n_clusters=i)\n",
    "    y_pred = kmeans.fit_predict(standarized_df)\n",
    "    clusters[i] += kmeans.inertia_"
   ]
  },
  {
   "cell_type": "code",
   "execution_count": 30,
   "metadata": {},
   "outputs": [
    {
     "data": {
      "text/plain": [
       "[<matplotlib.lines.Line2D at 0x7f80f9400250>]"
      ]
     },
     "execution_count": 30,
     "metadata": {},
     "output_type": "execute_result"
    },
    {
     "data": {
      "image/png": "[encoded data removed]",
      "text/plain": [
       "<Figure size 432x288 with 1 Axes>"
      ]
     },
     "metadata": {
      "needs_background": "light"
     },
     "output_type": "display_data"
    }
   ],
   "source": [
    "import matplotlib.pyplot as plt\n",
    "x = list(clusters.keys())\n",
    "y = list(clusters.values())\n",
    "plt.plot(x,y)"
   ]
  },
  {
   "cell_type": "markdown",
   "metadata": {},
   "source": [
    "#### From the elboy method we can deduct that the most efficient number of clusters is 3"
   ]
  },
  {
   "cell_type": "code",
   "execution_count": 92,
   "metadata": {},
   "outputs": [],
   "source": [
    "k = 3\n",
    "kmeans = KMeans(n_clusters=k)\n",
    "final_df['final_classification'] = kmeans.fit_predict(standarized_df)"
   ]
  },
  {
   "cell_type": "markdown",
   "metadata": {},
   "source": [
    "As we can see from the following table, there is a difference between the 3 groups in all of the metrics, which is a good indicator that we have clusterd the teams well"
   ]
  },
  {
   "cell_type": "code",
   "execution_count": 93,
   "metadata": {},
   "outputs": [
    {
     "data": {
      "text/html": [
       "<div>\n",
       "<style scoped>\n",
       "    .dataframe tbody tr th:only-of-type {\n",
       "        vertical-align: middle;\n",
       "    }\n",
       "\n",
       "    .dataframe tbody tr th {\n",
       "        vertical-align: top;\n",
       "    }\n",
       "\n",
       "    .dataframe thead th {\n",
       "        text-align: right;\n",
       "    }\n",
       "</style>\n",
       "<table border=\"1\" class=\"dataframe\">\n",
       "  <thead>\n",
       "    <tr style=\"text-align: right;\">\n",
       "      <th></th>\n",
       "      <th>ShotsTotal_Defense</th>\n",
       "      <th>ShotsTotal_Forward</th>\n",
       "      <th>ShotsTotal_GK</th>\n",
       "      <th>ShotsTotal_Mid</th>\n",
       "      <th>ShotsTotal_Substitute</th>\n",
       "      <th>ShotOnTarget_Defense</th>\n",
       "      <th>ShotOnTarget_Forward</th>\n",
       "      <th>ShotOnTarget_GK</th>\n",
       "      <th>ShotOnTarget_Mid</th>\n",
       "      <th>ShotOnTarget_Substitute</th>\n",
       "      <th>...</th>\n",
       "      <th>ShotOnTarget_Centro</th>\n",
       "      <th>KeyPassTotal_Bandas</th>\n",
       "      <th>KeyPassTotal_Centro</th>\n",
       "      <th>PassSuccessInMatch_Bandas</th>\n",
       "      <th>PassSuccessInMatch_Centro</th>\n",
       "      <th>DuelAerialWon_Bandas</th>\n",
       "      <th>DuelAerialWon_Centro</th>\n",
       "      <th>Touches_Bandas</th>\n",
       "      <th>Touches_Centro</th>\n",
       "      <th>final_classification</th>\n",
       "    </tr>\n",
       "    <tr>\n",
       "      <th>final_classification</th>\n",
       "      <th></th>\n",
       "      <th></th>\n",
       "      <th></th>\n",
       "      <th></th>\n",
       "      <th></th>\n",
       "      <th></th>\n",
       "      <th></th>\n",
       "      <th></th>\n",
       "      <th></th>\n",
       "      <th></th>\n",
       "      <th></th>\n",
       "      <th></th>\n",
       "      <th></th>\n",
       "      <th></th>\n",
       "      <th></th>\n",
       "      <th></th>\n",
       "      <th></th>\n",
       "      <th></th>\n",
       "      <th></th>\n",
       "      <th></th>\n",
       "      <th></th>\n",
       "    </tr>\n",
       "  </thead>\n",
       "  <tbody>\n",
       "    <tr>\n",
       "      <th>0</th>\n",
       "      <td>18.338710</td>\n",
       "      <td>34.338710</td>\n",
       "      <td>0.032258</td>\n",
       "      <td>32.225806</td>\n",
       "      <td>19.322581</td>\n",
       "      <td>5.209677</td>\n",
       "      <td>15.209677</td>\n",
       "      <td>0.032258</td>\n",
       "      <td>11.000000</td>\n",
       "      <td>7.774194</td>\n",
       "      <td>...</td>\n",
       "      <td>12.376344</td>\n",
       "      <td>13.368280</td>\n",
       "      <td>22.150538</td>\n",
       "      <td>0.583361</td>\n",
       "      <td>0.741852</td>\n",
       "      <td>13.570430</td>\n",
       "      <td>47.290323</td>\n",
       "      <td>82.357527</td>\n",
       "      <td>136.107527</td>\n",
       "      <td>0</td>\n",
       "    </tr>\n",
       "    <tr>\n",
       "      <th>1</th>\n",
       "      <td>4.133333</td>\n",
       "      <td>7.113636</td>\n",
       "      <td>0.000000</td>\n",
       "      <td>7.700000</td>\n",
       "      <td>2.733333</td>\n",
       "      <td>1.333333</td>\n",
       "      <td>2.500000</td>\n",
       "      <td>0.000000</td>\n",
       "      <td>2.277778</td>\n",
       "      <td>0.844444</td>\n",
       "      <td>...</td>\n",
       "      <td>2.137037</td>\n",
       "      <td>2.774444</td>\n",
       "      <td>4.200000</td>\n",
       "      <td>0.508032</td>\n",
       "      <td>0.677988</td>\n",
       "      <td>4.318889</td>\n",
       "      <td>10.911111</td>\n",
       "      <td>18.237778</td>\n",
       "      <td>26.803704</td>\n",
       "      <td>1</td>\n",
       "    </tr>\n",
       "    <tr>\n",
       "      <th>2</th>\n",
       "      <td>10.846154</td>\n",
       "      <td>23.053846</td>\n",
       "      <td>0.015385</td>\n",
       "      <td>20.723077</td>\n",
       "      <td>11.184615</td>\n",
       "      <td>2.976923</td>\n",
       "      <td>8.846154</td>\n",
       "      <td>0.000000</td>\n",
       "      <td>6.630769</td>\n",
       "      <td>4.200000</td>\n",
       "      <td>...</td>\n",
       "      <td>7.230769</td>\n",
       "      <td>8.075385</td>\n",
       "      <td>13.400000</td>\n",
       "      <td>0.546176</td>\n",
       "      <td>0.716010</td>\n",
       "      <td>10.426667</td>\n",
       "      <td>36.805128</td>\n",
       "      <td>58.220000</td>\n",
       "      <td>88.902564</td>\n",
       "      <td>2</td>\n",
       "    </tr>\n",
       "  </tbody>\n",
       "</table>\n",
       "<p>3 rows × 43 columns</p>\n",
       "</div>"
      ],
      "text/plain": [
       "                      ShotsTotal_Defense  ShotsTotal_Forward  ShotsTotal_GK  \\\n",
       "final_classification                                                          \n",
       "0                              18.338710           34.338710       0.032258   \n",
       "1                               4.133333            7.113636       0.000000   \n",
       "2                              10.846154           23.053846       0.015385   \n",
       "\n",
       "                      ShotsTotal_Mid  ShotsTotal_Substitute  \\\n",
       "final_classification                                          \n",
       "0                          32.225806              19.322581   \n",
       "1                           7.700000               2.733333   \n",
       "2                          20.723077              11.184615   \n",
       "\n",
       "                      ShotOnTarget_Defense  ShotOnTarget_Forward  \\\n",
       "final_classification                                               \n",
       "0                                 5.209677             15.209677   \n",
       "1                                 1.333333              2.500000   \n",
       "2                                 2.976923              8.846154   \n",
       "\n",
       "                      ShotOnTarget_GK  ShotOnTarget_Mid  \\\n",
       "final_classification                                      \n",
       "0                            0.032258         11.000000   \n",
       "1                            0.000000          2.277778   \n",
       "2                            0.000000          6.630769   \n",
       "\n",
       "                      ShotOnTarget_Substitute  ...  ShotOnTarget_Centro  \\\n",
       "final_classification                           ...                        \n",
       "0                                    7.774194  ...            12.376344   \n",
       "1                                    0.844444  ...             2.137037   \n",
       "2                                    4.200000  ...             7.230769   \n",
       "\n",
       "                      KeyPassTotal_Bandas  KeyPassTotal_Centro  \\\n",
       "final_classification                                             \n",
       "0                               13.368280            22.150538   \n",
       "1                                2.774444             4.200000   \n",
       "2                                8.075385            13.400000   \n",
       "\n",
       "                      PassSuccessInMatch_Bandas  PassSuccessInMatch_Centro  \\\n",
       "final_classification                                                         \n",
       "0                                      0.583361                   0.741852   \n",
       "1                                      0.508032                   0.677988   \n",
       "2                                      0.546176                   0.716010   \n",
       "\n",
       "                      DuelAerialWon_Bandas  DuelAerialWon_Centro  \\\n",
       "final_classification                                               \n",
       "0                                13.570430             47.290323   \n",
       "1                                 4.318889             10.911111   \n",
       "2                                10.426667             36.805128   \n",
       "\n",
       "                      Touches_Bandas  Touches_Centro  final_classification  \n",
       "final_classification                                                        \n",
       "0                          82.357527      136.107527                     0  \n",
       "1                          18.237778       26.803704                     1  \n",
       "2                          58.220000       88.902564                     2  \n",
       "\n",
       "[3 rows x 43 columns]"
      ]
     },
     "execution_count": 93,
     "metadata": {},
     "output_type": "execute_result"
    }
   ],
   "source": [
    "final_df.groupby('final_classification')[['ShotsTotal_Defense', 'ShotsTotal_Forward', 'ShotsTotal_GK',\n",
    "       'ShotsTotal_Mid', 'ShotsTotal_Substitute', 'ShotOnTarget_Defense',\n",
    "       'ShotOnTarget_Forward', 'ShotOnTarget_GK', 'ShotOnTarget_Mid',\n",
    "       'ShotOnTarget_Substitute', 'KeyPassTotal_Defense',\n",
    "       'KeyPassTotal_Forward', 'KeyPassTotal_GK', 'KeyPassTotal_Mid',\n",
    "       'KeyPassTotal_Substitute', 'PassSuccessInMatch_Defense',\n",
    "       'PassSuccessInMatch_Forward', 'PassSuccessInMatch_GK',\n",
    "       'PassSuccessInMatch_Mid', 'PassSuccessInMatch_Substitute',\n",
    "       'DuelAerialWon_Defense', 'DuelAerialWon_Forward', 'DuelAerialWon_GK',\n",
    "       'DuelAerialWon_Mid', 'DuelAerialWon_Substitute', 'Touches_Defense',\n",
    "       'Touches_Forward', 'Touches_GK', 'Touches_Mid', 'Touches_Substitute',\n",
    "       'ShotsTotal_Bandas',\n",
    "       'ShotsTotal_Centro', 'ShotOnTarget_Bandas', 'ShotOnTarget_Centro',\n",
    "       'KeyPassTotal_Bandas', 'KeyPassTotal_Centro',\n",
    "       'PassSuccessInMatch_Bandas', 'PassSuccessInMatch_Centro',\n",
    "       'DuelAerialWon_Bandas', 'DuelAerialWon_Centro', 'Touches_Bandas',\n",
    "       'Touches_Centro', \n",
    "       'final_classification']].mean()"
   ]
  },
  {
   "cell_type": "code",
   "execution_count": 94,
   "metadata": {},
   "outputs": [
    {
     "data": {
      "text/plain": [
       "Index(['AC Milan', 'Atalanta', 'Bayer Leverkusen', 'Bologna', 'Bordeaux',\n",
       "       'Borussia Dortmund', 'Borussia M.Gladbach', 'Brighton', 'Dijon',\n",
       "       'Everton', 'Lazio', 'Lecce', 'Leicester', 'Manchester City',\n",
       "       'Manchester United', 'Monaco', 'Nantes', 'Norwich',\n",
       "       'Paris Saint-Germain', 'RasenBallsport Leipzig', 'Real Betis',\n",
       "       'Real Madrid', 'Real Valladolid', 'Rennes', 'Roma', 'Sampdoria',\n",
       "       'Sassuolo', 'Sevilla', 'Union Berlin', 'Villarreal',\n",
       "       'Wolverhampton Wanderers'],\n",
       "      dtype='object', name='team')"
      ]
     },
     "execution_count": 94,
     "metadata": {},
     "output_type": "execute_result"
    }
   ],
   "source": [
    "final_df[final_df.final_classification == 0].index"
   ]
  },
  {
   "cell_type": "code",
   "execution_count": 95,
   "metadata": {},
   "outputs": [],
   "source": [
    "team_classsification_dic = dict((i,j) for (i,j) in zip(final_df.reset_index().team, final_df.final_classification))"
   ]
  },
  {
   "cell_type": "code",
   "execution_count": 96,
   "metadata": {},
   "outputs": [],
   "source": [
    "final_df.to_csv(\"team_classification.csv\",index = False)"
   ]
  },
  {
   "cell_type": "markdown",
   "metadata": {},
   "source": [
    "## Bringing in and processing Games Data"
   ]
  },
  {
   "cell_type": "code",
   "execution_count": 97,
   "metadata": {},
   "outputs": [],
   "source": [
    "games = pd.read_csv('games.csv')"
   ]
  },
  {
   "cell_type": "code",
   "execution_count": 98,
   "metadata": {},
   "outputs": [
    {
     "data": {
      "text/plain": [
       "(634, 12)"
      ]
     },
     "execution_count": 98,
     "metadata": {},
     "output_type": "execute_result"
    }
   ],
   "source": [
    "games.shape"
   ]
  },
  {
   "cell_type": "code",
   "execution_count": 99,
   "metadata": {},
   "outputs": [],
   "source": [
    "games['home_team_classification'] = games['home_team'].map(team_classsification_dic)"
   ]
  },
  {
   "cell_type": "code",
   "execution_count": 100,
   "metadata": {},
   "outputs": [],
   "source": [
    "games['away_team_classification'] = games['away_team'].map(team_classsification_dic)"
   ]
  },
  {
   "cell_type": "code",
   "execution_count": 101,
   "metadata": {},
   "outputs": [],
   "source": [
    "formations = {'3-1-4-2':'Offensive',\n",
    " '3-4-1-2':'Offensive',\n",
    " '3-4-2-1':'Offensive',\n",
    " '3-4-3':'Offensive',\n",
    " '3-5-1-1':'Offensive',\n",
    " '3-5-2':'Offensive',\n",
    " '4-1-2-1-2':'Defensive',\n",
    " '4-1-3-2':'Defensive',\n",
    " '4-1-4-1':'Defensive',\n",
    " '4-2-2-2':'Defensive',\n",
    " '4-2-3-1':'Offensive',\n",
    " '4-3-1-2':'Defensive',\n",
    " '4-3-2-1':'Defensive',\n",
    " '4-3-3':'Offensive',\n",
    " '4-4-1-1':'Defensive',\n",
    " '4-4-2':'Defensive',\n",
    " '4-5-1':'Defensive',\n",
    " '5-3-2':'Defensive',\n",
    " '5-4-1':'Defensive'}"
   ]
  },
  {
   "cell_type": "code",
   "execution_count": 102,
   "metadata": {},
   "outputs": [],
   "source": [
    "games['home_formation'] = games['home_team_formation'].map(formations)\n",
    "games['away_formation'] = games['away_team_formation'].map(formations)"
   ]
  },
  {
   "cell_type": "code",
   "execution_count": 103,
   "metadata": {},
   "outputs": [],
   "source": [
    "games_extra = games.copy()"
   ]
  },
  {
   "cell_type": "code",
   "execution_count": 104,
   "metadata": {},
   "outputs": [],
   "source": [
    "import re\n",
    "\n",
    "def goals(result):\n",
    "    c = re.sub(':','',result)\n",
    "    return list(re.sub(' ','',c))\n",
    "\n",
    "def league(link):\n",
    "    if 'Spain' in link:\n",
    "        return 'La liga'\n",
    "    if 'England' in link:\n",
    "        return 'Premiere'\n",
    "    if 'Italy' in link:\n",
    "        return 'Serie A'\n",
    "    if 'Portugal' in link:\n",
    "        return 'Liga Nos'\n",
    "    if 'France' in link:\n",
    "        return 'League 1'\n",
    "    if 'Germany' in link:\n",
    "        return 'Bundesliga'\n",
    "\n",
    "def winner(one,two):\n",
    "    if one > two:\n",
    "        return 1\n",
    "    else:\n",
    "        return 0\n",
    "    \n",
    "def odd(one,two):\n",
    "    if one == two:\n",
    "        return 1\n",
    "    else:\n",
    "        return 0\n",
    "    \n",
    "def cornersOver(corners):\n",
    "    if corners > 9:\n",
    "        return 1\n",
    "    else:\n",
    "        return 0\n",
    "\n",
    "def cornersBelow(corners):\n",
    "    if corners < 9:\n",
    "        return 1\n",
    "    else:\n",
    "        return 0\n",
    "\n",
    "\n",
    "def goalsOver(goals):\n",
    "    if goals > 2.5:\n",
    "        return 1\n",
    "    else:\n",
    "        return 0\n",
    "    \n",
    "def goalsBelow(goals):\n",
    "    if goals < 2.5:\n",
    "        return 1\n",
    "    else:\n",
    "        return 0\n",
    "    "
   ]
  },
  {
   "cell_type": "code",
   "execution_count": 105,
   "metadata": {},
   "outputs": [],
   "source": [
    "games_extra['half_time_home_goals'] = [int(goals(i)[0]) for i in games_extra['first_half_result']]\n",
    "games_extra['half_time_away_goals'] = [int(goals(i)[1]) for i in games_extra['first_half_result']]\n",
    "games_extra['full_time_home_goals'] = [int(goals(i)[0]) for i in games_extra['full_time_result']]\n",
    "games_extra['full_time_away_goals'] = [int(goals(i)[1]) for i in games_extra['full_time_result']]\n",
    "games_extra['half_time_goals'] = games_extra['half_time_home_goals'] + games_extra['half_time_away_goals']\n",
    "games_extra['full_time_goals'] = games_extra['full_time_home_goals'] + games_extra['full_time_away_goals']\n",
    "games_extra['league'] = [league(i) for i in games_extra['game_id']]\n",
    "games_extra['total_corners'] = games_extra['away_team_corners'] + games_extra['home_team_corners']\n",
    "games_extra['home_team_winner'] = [winner(i,j) for (i,j) in zip(games_extra.full_time_home_goals,games_extra.full_time_away_goals)]\n",
    "games_extra['away_team_winner'] = [winner(i,j) for (i,j) in zip(games_extra.full_time_away_goals,games_extra.full_time_home_goals)]\n",
    "games_extra['odd'] = [odd(i,j) for (i,j) in zip(games_extra.full_time_away_goals,games_extra.full_time_home_goals)]"
   ]
  },
  {
   "cell_type": "code",
   "execution_count": 106,
   "metadata": {},
   "outputs": [],
   "source": [
    "games_extra = games_extra[games_extra['league'] != 'Liga Nos']"
   ]
  },
  {
   "cell_type": "code",
   "execution_count": 107,
   "metadata": {},
   "outputs": [],
   "source": [
    "games_extra.dropna(inplace = True)"
   ]
  },
  {
   "cell_type": "code",
   "execution_count": 108,
   "metadata": {},
   "outputs": [
    {
     "data": {
      "text/plain": [
       "(445, 27)"
      ]
     },
     "execution_count": 108,
     "metadata": {},
     "output_type": "execute_result"
    }
   ],
   "source": [
    "games_extra.shape"
   ]
  },
  {
   "cell_type": "code",
   "execution_count": 109,
   "metadata": {},
   "outputs": [],
   "source": [
    "to_drop = ['away_team','first_half_result','full_time_result','game_id','home_team']\n",
    "games_extra.drop(to_drop, axis = 1, inplace = True)"
   ]
  },
  {
   "cell_type": "code",
   "execution_count": 110,
   "metadata": {},
   "outputs": [],
   "source": [
    "games_extra = games_extra.iloc[0:,1:]"
   ]
  },
  {
   "cell_type": "code",
   "execution_count": 111,
   "metadata": {},
   "outputs": [],
   "source": [
    "from sklearn.model_selection import train_test_split\n",
    "\n",
    "train_set, test_set = train_test_split(games_extra, test_size=0.20, random_state=42)"
   ]
  },
  {
   "cell_type": "code",
   "execution_count": 112,
   "metadata": {},
   "outputs": [
    {
     "name": "stderr",
     "output_type": "stream",
     "text": [
      "<ipython-input-112-c017b229e91c>:1: SettingWithCopyWarning: \n",
      "A value is trying to be set on a copy of a slice from a DataFrame.\n",
      "Try using .loc[row_indexer,col_indexer] = value instead\n",
      "\n",
      "See the caveats in the documentation: https://pandas.pydata.org/pandas-docs/stable/user_guide/indexing.html#returning-a-view-versus-a-copy\n",
      "  train_set['attendance'] = [int(re.sub(',','',i)) for i in train_set['attendance']]\n",
      "<ipython-input-112-c017b229e91c>:2: SettingWithCopyWarning: \n",
      "A value is trying to be set on a copy of a slice from a DataFrame.\n",
      "Try using .loc[row_indexer,col_indexer] = value instead\n",
      "\n",
      "See the caveats in the documentation: https://pandas.pydata.org/pandas-docs/stable/user_guide/indexing.html#returning-a-view-versus-a-copy\n",
      "  test_set['attendance'] = [int(re.sub(',','',i)) for i in test_set['attendance']]\n"
     ]
    }
   ],
   "source": [
    "train_set['attendance'] = [int(re.sub(',','',i)) for i in train_set['attendance']]\n",
    "test_set['attendance'] = [int(re.sub(',','',i)) for i in test_set['attendance']]"
   ]
  },
  {
   "cell_type": "code",
   "execution_count": 113,
   "metadata": {},
   "outputs": [],
   "source": [
    "games_extra_lables = train_set[['away_team_corners','home_team_corners','half_time_home_goals','half_time_away_goals',\n",
    "                        'full_time_home_goals','full_time_away_goals','half_time_goals','full_time_goals',\n",
    "                        'total_corners','home_team_winner','away_team_winner','odd']]"
   ]
  },
  {
   "cell_type": "code",
   "execution_count": 114,
   "metadata": {},
   "outputs": [],
   "source": [
    "games_extra_predictors = train_set.drop(['away_team_corners','home_team_corners','half_time_home_goals','half_time_away_goals',\n",
    "                        'full_time_home_goals','full_time_away_goals','half_time_goals','full_time_goals',\n",
    "                        'total_corners','home_team_winner','away_team_winner','odd','home_team_formation','away_team_formation','competition'], axis = 1)"
   ]
  },
  {
   "cell_type": "code",
   "execution_count": 115,
   "metadata": {},
   "outputs": [],
   "source": [
    "games_extra_valid_lables = test_set[['away_team_corners','home_team_corners','half_time_home_goals','half_time_away_goals',\n",
    "                        'full_time_home_goals','full_time_away_goals','half_time_goals','full_time_goals',\n",
    "                        'total_corners','home_team_winner','away_team_winner','odd']]"
   ]
  },
  {
   "cell_type": "code",
   "execution_count": 116,
   "metadata": {},
   "outputs": [],
   "source": [
    "games_extra_valid_pred = test_set.drop(['away_team_corners','home_team_corners','half_time_home_goals','half_time_away_goals',\n",
    "                        'full_time_home_goals','full_time_away_goals','half_time_goals','full_time_goals',\n",
    "                        'total_corners','home_team_winner','away_team_winner','odd','home_team_formation','away_team_formation','competition'], axis = 1)"
   ]
  },
  {
   "cell_type": "code",
   "execution_count": 117,
   "metadata": {},
   "outputs": [],
   "source": [
    "games_extra_num = games_extra_predictors[[\"attendance\"]]\n",
    "games_extra_cat = games_extra_predictors.drop(\"attendance\", axis = 1)"
   ]
  },
  {
   "cell_type": "code",
   "execution_count": 118,
   "metadata": {},
   "outputs": [],
   "source": [
    "games_extra_num_valid = games_extra_valid_pred[[\"attendance\"]]\n",
    "games_extra_cat_valid = games_extra_valid_pred.drop(\"attendance\", axis = 1)\n",
    "\n"
   ]
  },
  {
   "cell_type": "code",
   "execution_count": 119,
   "metadata": {},
   "outputs": [],
   "source": [
    "from sklearn.preprocessing import OneHotEncoder\n",
    "from sklearn.impute import SimpleImputer\n",
    "from sklearn.pipeline import Pipeline\n",
    "from sklearn.compose import ColumnTransformer\n",
    "from sklearn.preprocessing import StandardScaler\n",
    "\n",
    "num_pipeline = Pipeline([\n",
    "        ('imputer', SimpleImputer(strategy=\"constant\", fill_value = 0)),\n",
    "        ('std_scaler', StandardScaler()),\n",
    "    ])\n",
    "\n",
    "num_attribs = list(games_extra_num)\n",
    "cat_attribs = list(games_extra_cat)\n",
    "\n",
    "num_attribs_valid = list(games_extra_num_valid)\n",
    "cat_attribs_valid = list(games_extra_cat_valid)\n",
    "\n",
    "full_pipeline = ColumnTransformer([\n",
    "        (\"num\", num_pipeline, num_attribs),\n",
    "        (\"cat\", OneHotEncoder(), cat_attribs),\n",
    "    ])\n",
    "full_pipeline_valid = ColumnTransformer([\n",
    "        (\"num\", num_pipeline, num_attribs_valid),\n",
    "        (\"cat\", OneHotEncoder(), cat_attribs_valid),\n",
    "    ])\n",
    "\n",
    "X_train = full_pipeline.fit_transform(games_extra_predictors)\n",
    "\n",
    "y_train = games_extra_lables[['half_time_goals','full_time_goals','total_corners']]\n",
    "\n",
    "X_valid = full_pipeline_valid.fit_transform(games_extra_valid_pred)\n",
    "\n",
    "y_valid = games_extra_valid_lables[['home_team_winner','away_team_winner','odd']]"
   ]
  },
  {
   "cell_type": "markdown",
   "metadata": {},
   "source": [
    "## Let's go with the Fun Part"
   ]
  },
  {
   "cell_type": "code",
   "execution_count": 120,
   "metadata": {},
   "outputs": [],
   "source": [
    "import tensorflow as tf\n",
    "from tensorflow import keras"
   ]
  },
  {
   "cell_type": "code",
   "execution_count": 125,
   "metadata": {},
   "outputs": [],
   "source": [
    "def build_model(n_hidden=1, n_neurons=30, learning_rate=3e-3, input_shape=[16]):\n",
    "    model = keras.models.Sequential()\n",
    "    model.add(keras.layers.InputLayer(input_shape=input_shape))\n",
    "    for layer in range(n_hidden):\n",
    "        model.add(keras.layers.Dense(n_neurons, activation=\"relu\"))\n",
    "    model.add(keras.layers.Dense(1))\n",
    "    optimizer = keras.optimizers.SGD(lr=learning_rate)\n",
    "    model.compile(loss=\"mse\", optimizer=optimizer)\n",
    "    return model"
   ]
  },
  {
   "cell_type": "code",
   "execution_count": 126,
   "metadata": {},
   "outputs": [],
   "source": [
    "keras_reg = keras.wrappers.scikit_learn.KerasRegressor(build_model)"
   ]
  },
  {
   "cell_type": "code",
   "execution_count": null,
   "metadata": {},
   "outputs": [],
   "source": [
    "keras_reg = keras.wrappers.scikit_learn.KerasRegressor(build_model)\n",
    "keras_reg.fit(X_train, y_train, epochs=23,\n",
    "              validation_data=(X_valid, y_valid),\n",
    "              callbacks=[keras.callbacks.EarlyStopping(patience=10)])\n",
    "mse_test = keras_reg.score(X_valid, y_valid)\n",
    "y_pred = keras_reg.predict(X_valid)"
   ]
  },
  {
   "cell_type": "code",
   "execution_count": null,
   "metadata": {},
   "outputs": [],
   "source": [
    "from scipy.stats import reciprocal\n",
    "from sklearn.model_selection import RandomizedSearchCV\n",
    "\n",
    "param_distribs = {\n",
    "    \"n_hidden\": [0, 1, 2, 3,4],\n",
    "    \"n_neurons\": np.arange(1, 100),\n",
    "    \"learning_rate\": reciprocal(3e-4, 3e-2),\n",
    "}\n",
    "\n",
    "rnd_search_cv = RandomizedSearchCV(keras_reg, param_distribs, n_iter=10, cv=3)\n",
    "rnd_search_cv.fit(X_train, y_train, epochs=23,\n",
    "                  validation_data=(X_valid, y_valid),\n",
    "                  callbacks=[keras.callbacks.EarlyStopping(patience=10)])"
   ]
  },
  {
   "cell_type": "code",
   "execution_count": 177,
   "metadata": {},
   "outputs": [
    {
     "data": {
      "text/plain": [
       "{'learning_rate': 0.013336332619680218, 'n_hidden': 1, 'n_neurons': 49}"
      ]
     },
     "execution_count": 177,
     "metadata": {},
     "output_type": "execute_result"
    }
   ],
   "source": [
    "rnd_search_cv.best_params_"
   ]
  },
  {
   "cell_type": "code",
   "execution_count": 178,
   "metadata": {},
   "outputs": [
    {
     "data": {
      "text/plain": [
       "-21.45376968383789"
      ]
     },
     "execution_count": 178,
     "metadata": {},
     "output_type": "execute_result"
    }
   ],
   "source": [
    "rnd_search_cv.best_score_"
   ]
  },
  {
   "cell_type": "code",
   "execution_count": 408,
   "metadata": {},
   "outputs": [],
   "source": [
    "import tensorflow as tf\n",
    "from tensorflow import keras"
   ]
  },
  {
   "cell_type": "code",
   "execution_count": 185,
   "metadata": {},
   "outputs": [],
   "source": [
    "def build_model(n_hidden=4, n_neurons=89, learning_rate=0.0017821762256654975, input_shape=[16]):\n",
    "    model = keras.models.Sequential()\n",
    "    model.add(keras.layers.InputLayer(input_shape=input_shape))\n",
    "    for layer in range(n_hidden):\n",
    "        model.add(keras.layers.Dense(n_neurons, activation=\"relu\"))\n",
    "    model.add(keras.layers.Dense(3))\n",
    "    optimizer = keras.optimizers.SGD(lr=learning_rate)\n",
    "    model.compile(loss=\"mse\", optimizer=\"sgd\")\n",
    "    return model"
   ]
  },
  {
   "cell_type": "code",
   "execution_count": null,
   "metadata": {},
   "outputs": [],
   "source": [
    "model = keras.wrappers.scikit_learn.KerasRegressor(build_model)\n",
    "model.fit(X_train, y_train, epochs=23,\n",
    "              validation_data=(X_valid, y_valid),\n",
    "              callbacks=[keras.callbacks.EarlyStopping(patience=10)])\n",
    "mse_test = model.score(X_valid, y_valid)\n",
    "y_pred = model.predict(X_valid)"
   ]
  },
  {
   "cell_type": "code",
   "execution_count": 187,
   "metadata": {},
   "outputs": [],
   "source": [
    "def transformer():\n",
    "\n",
    "    num_pipeline = Pipeline([\n",
    "            ('imputer', SimpleImputer(strategy=\"constant\", fill_value = 0)),\n",
    "            ('std_scaler', StandardScaler()),\n",
    "        ])\n",
    "\n",
    "    num_attribs = ['attendance']\n",
    "    cat_attribs = ['away_formation','home_formation','home_team_classification','away_team_classification','league']\n",
    "\n",
    "    full_pipeline = ColumnTransformer([\n",
    "            (\"num\", num_pipeline, num_attribs),\n",
    "            (\"cat\", OneHotEncoder(), cat_attribs),\n",
    "        ])\n",
    "    return full_pipeline\n",
    "\n",
    "def inp(home, away):\n",
    "    \n",
    "    columns = ['attendance','away_formation','home_formation','home_team_classification','away_team_classification','league']\n",
    "    dic = dict()\n",
    "    l = list()\n",
    "    for i in columns:\n",
    "        if i == 'home_team_classification':\n",
    "            dic[i] = float(team_classsification_dic[home])\n",
    "        elif i == 'away_team_classification':\n",
    "            dic[i] = float(team_classsification_dic[away])\n",
    "        else:\n",
    "            print(i)\n",
    "            dic[i] = input()\n",
    "    l.append(dic)\n",
    "    df = pd.DataFrame(l)\n",
    "    return df\n",
    "\n",
    "def predictions(home,away, model):    \n",
    "    to_pred = inp(home, away)\n",
    "    final_model = model\n",
    "    l = transformer().fit(games_extra_predictors)\n",
    "    X_test_prepared = l.transform(to_pred)\n",
    "    final_predictions = final_model.predict(X_test_prepared)\n",
    "    return final_predictions\n",
    "\n"
   ]
  },
  {
   "cell_type": "code",
   "execution_count": 188,
   "metadata": {},
   "outputs": [
    {
     "name": "stdout",
     "output_type": "stream",
     "text": [
      "attendance\n"
     ]
    },
    {
     "name": "stdin",
     "output_type": "stream",
     "text": [
      " 2000\n"
     ]
    },
    {
     "name": "stdout",
     "output_type": "stream",
     "text": [
      "away_formation\n"
     ]
    },
    {
     "name": "stdin",
     "output_type": "stream",
     "text": [
      " Offensive\n"
     ]
    },
    {
     "name": "stdout",
     "output_type": "stream",
     "text": [
      "home_formation\n"
     ]
    },
    {
     "name": "stdin",
     "output_type": "stream",
     "text": [
      " Offensive\n"
     ]
    },
    {
     "name": "stdout",
     "output_type": "stream",
     "text": [
      "league\n"
     ]
    },
    {
     "name": "stdin",
     "output_type": "stream",
     "text": [
      " Premiere\n"
     ]
    },
    {
     "name": "stderr",
     "output_type": "stream",
     "text": [
      "/Users/eyuelmelese/miniconda3/lib/python3.8/site-packages/sklearn/compose/_column_transformer.py:437: FutureWarning: Given feature/column names or counts do not match the ones for the data given during fit. This will fail from v0.24.\n",
      "  warnings.warn(\"Given feature/column names or counts do not match \"\n"
     ]
    },
    {
     "data": {
      "text/plain": [
       "array([1.3682883, 2.3676317, 8.898706 ], dtype=float32)"
      ]
     },
     "execution_count": 188,
     "metadata": {},
     "output_type": "execute_result"
    }
   ],
   "source": [
    "predictions('Arsenal', 'Chelsea', model)"
   ]
  },
  {
   "cell_type": "code",
   "execution_count": null,
   "metadata": {},
   "outputs": [],
   "source": [
    "model.save('/Users/eyuelmelese/Official Football')"
   ]
  },
  {
   "cell_type": "code",
   "execution_count": null,
   "metadata": {},
   "outputs": [],
   "source": []
  }
 ],
 "metadata": {
  "kernelspec": {
   "display_name": "Python 3",
   "language": "python",
   "name": "python3"
  },
  "language_info": {
   "codemirror_mode": {
    "name": "ipython",
    "version": 3
   },
   "file_extension": ".py",
   "mimetype": "text/x-python",
   "name": "python",
   "nbconvert_exporter": "python",
   "pygments_lexer": "ipython3",
   "version": "3.8.5"
  }
 },
 "nbformat": 4,
 "nbformat_minor": 4
}
